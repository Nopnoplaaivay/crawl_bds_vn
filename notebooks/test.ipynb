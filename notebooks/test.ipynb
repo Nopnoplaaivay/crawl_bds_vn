{
 "cells": [
  {
   "cell_type": "code",
   "execution_count": 26,
   "metadata": {},
   "outputs": [],
   "source": [
    "import time\n",
    "import numpy as np\n",
    "import pandas as pd\n",
    "from typing import Dict, Union\n",
    "from selenium import webdriver\n",
    "from selenium.webdriver.common.by import By\n",
    "from selenium.webdriver.chrome.service import Service\n",
    "from selenium.webdriver.support.ui import WebDriverWait\n",
    "from selenium.webdriver.support import expected_conditions as EC\n",
    "from selenium.common.exceptions import (\n",
    "    ElementClickInterceptedException,\n",
    "    NoSuchElementException,\n",
    "    StaleElementReferenceException,\n",
    "    TimeoutException\n",
    ")\n",
    "from webdriver_manager.chrome import ChromeDriverManager\n",
    "\n",
    "# from src.common.consts import CommonConsts\n",
    "# from src.modules.entities.real_estate import RealEstate\n",
    "# from src.modules.repositories import RealEstateRepo\n",
    "\n",
    "\n",
    "\n",
    "# Set up Chrome driver\n",
    "options = webdriver.ChromeOptions()\n",
    "options.add_experimental_option(\"excludeSwitches\", [\"enable-logging\"])\n",
    "# options.add_argument(\"--log-level=3\")  # Suppress logs\n",
    "# options.add_argument(\"--disable-logging\")  # Disable logging\n",
    "# options.add_argument(\"--silent\")  # Silent mode\n",
    "# options.add_argument(\"headless\")\n",
    "options.add_argument(\"window-size=1920x1080\")\n",
    "options.add_argument(\"disable-gpu\")\n",
    "service = Service(executable_path=ChromeDriverManager().install())\n",
    "driver = webdriver.Chrome(options=options, service=service)\n",
    "driver.set_page_load_timeout(30)\n",
    "link_all = [\n",
    "    \"https://batdongsan.com.vn/nha-dat-ban\",\n",
    "    \"https://batdongsan.com.vn/nha-dat-cho-thue\",\n",
    "]\n",
    "real_estate_type = [\n",
    "    \"Bán\",\n",
    "    \"Cho thuê\"\n",
    "]\n",
    "driver.get(\"https://batdongsan.com.vn/nha-dat-ban\")"
   ]
  },
  {
   "cell_type": "code",
   "execution_count": 27,
   "metadata": {},
   "outputs": [],
   "source": [
    "filter_button = driver.find_element(By.CSS_SELECTOR, \"div[data-default-value='Loại nhà đất']\")\n",
    "filter_button.click()"
   ]
  },
  {
   "cell_type": "code",
   "execution_count": 41,
   "metadata": {},
   "outputs": [
    {
     "name": "stdout",
     "output_type": "stream",
     "text": [
      "324\n",
      "--li: Chung cư mini, căn hộ dịch vụ\n",
      "--ul \n",
      "--------------------------------------------------\n",
      "650\n",
      "--no ul\n",
      "--------------------------------------------------\n",
      "362\n",
      "--li: Nhà riêng\n",
      "--li: Nhà biệt thự, liền kề\n",
      "--li: Nhà mặt phố\n",
      "--li: Shophouse, nhà phố thương mại\n",
      "--ul \n",
      "--------------------------------------------------\n",
      "41\n",
      "--no ul\n",
      "--------------------------------------------------\n",
      "325\n",
      "--no ul\n",
      "--------------------------------------------------\n",
      "163\n",
      "--no ul\n",
      "--------------------------------------------------\n",
      "575\n",
      "--no ul\n",
      "--------------------------------------------------\n",
      "361\n",
      "--li: \n",
      "--li: \n",
      "--ul \n",
      "--------------------------------------------------\n",
      "40\n",
      "--no ul\n",
      "--------------------------------------------------\n",
      "283\n",
      "--no ul\n",
      "--------------------------------------------------\n",
      "44\n",
      "--li: \n",
      "--ul \n",
      "--------------------------------------------------\n",
      "562\n",
      "--no ul\n",
      "--------------------------------------------------\n",
      "45\n",
      "--no ul\n",
      "--------------------------------------------------\n",
      "48\n",
      "--no ul\n",
      "--------------------------------------------------\n"
     ]
    },
    {
     "data": {
      "text/plain": [
       "[]"
      ]
     },
     "execution_count": 41,
     "metadata": {},
     "output_type": "execute_result"
    }
   ],
   "source": [
    "# Get all elem that are li tag\n",
    "elems = driver.find_elements(By.CSS_SELECTOR, \".mCSB_container li[value]\")\n",
    "re_types = []\n",
    "for elem in elems:\n",
    "    # if elem.get_attribute(\"value\") != \"0\":\n",
    "        print(elem.get_attribute(\"value\"))\n",
    "        # print(elem.text)\n",
    "        # re_types.append(elem.text)\n",
    "        try:\n",
    "            ul = elem.find_element(By.CSS_SELECTOR, \"ul\")\n",
    "            li_elems = ul.find_elements(By.CSS_SELECTOR, \"li\")\n",
    "            for li_elem in li_elems:\n",
    "                print(f\"--li: {li_elem.text}\")\n",
    "            print(f\"--ul \")\n",
    "        except NoSuchElementException:\n",
    "            ul = None\n",
    "            print(f\"--no ul\")\n",
    "        print(\"-\" * 50)\n",
    "re_types\n"
   ]
  }
 ],
 "metadata": {
  "kernelspec": {
   "display_name": "venv",
   "language": "python",
   "name": "python3"
  },
  "language_info": {
   "codemirror_mode": {
    "name": "ipython",
    "version": 3
   },
   "file_extension": ".py",
   "mimetype": "text/x-python",
   "name": "python",
   "nbconvert_exporter": "python",
   "pygments_lexer": "ipython3",
   "version": "3.11.4"
  }
 },
 "nbformat": 4,
 "nbformat_minor": 2
}
