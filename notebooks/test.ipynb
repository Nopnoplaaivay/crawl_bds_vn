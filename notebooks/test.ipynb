{
 "cells": [
  {
   "cell_type": "code",
   "execution_count": 7,
   "metadata": {},
   "outputs": [],
   "source": [
    "import time\n",
    "import numpy as np\n",
    "import pandas as pd\n",
    "from typing import Dict, Union\n",
    "from selenium import webdriver\n",
    "from selenium.webdriver.common.by import By\n",
    "from selenium.webdriver.chrome.service import Service\n",
    "from selenium.webdriver.support.ui import WebDriverWait\n",
    "from selenium.webdriver.support import expected_conditions as EC\n",
    "from selenium.common.exceptions import (\n",
    "    ElementClickInterceptedException,\n",
    "    NoSuchElementException,\n",
    "    StaleElementReferenceException,\n",
    "    TimeoutException\n",
    ")\n",
    "from webdriver_manager.chrome import ChromeDriverManager\n",
    "\n",
    "# from src.common.consts import CommonConsts\n",
    "# from src.modules.entities.real_estate import RealEstate\n",
    "# from src.modules.repositories import RealEstateRepo\n",
    "\n",
    "\n",
    "\n",
    "# Set up Chrome driver\n",
    "options = webdriver.ChromeOptions()\n",
    "options.add_experimental_option(\"excludeSwitches\", [\"enable-logging\"])\n",
    "# options.add_argument(\"--log-level=3\")  # Suppress logs\n",
    "# options.add_argument(\"--disable-logging\")  # Disable logging\n",
    "# options.add_argument(\"--silent\")  # Silent mode\n",
    "# options.add_argument(\"headless\")\n",
    "options.add_argument(\"window-size=1920x1080\")\n",
    "options.add_argument(\"disable-gpu\")\n",
    "service = Service(executable_path=ChromeDriverManager().install())\n",
    "driver = webdriver.Chrome(options=options, service=service)\n",
    "driver.set_page_load_timeout(30)\n",
    "link_all = [\n",
    "    \"https://batdongsan.com.vn/nha-dat-ban\",\n",
    "    \"https://batdongsan.com.vn/nha-dat-cho-thue\",\n",
    "]\n",
    "real_estate_type = [\n",
    "    \"Bán\",\n",
    "    \"Cho thuê\"\n",
    "]\n",
    "# for i in np.arange(0, len(link_all), 1):\n",
    "#     real_estate_type = real_estate_type[i]\n",
    "#     driver.get(link_all[i])"
   ]
  },
  {
   "cell_type": "code",
   "execution_count": 8,
   "metadata": {},
   "outputs": [],
   "source": [
    "driver.get(\"https://batdongsan.com.vn/nha-dat-ban\")"
   ]
  },
  {
   "cell_type": "code",
   "execution_count": 16,
   "metadata": {},
   "outputs": [
    {
     "name": "stdout",
     "output_type": "stream",
     "text": [
      "Chung cư mini, căn hộ dịch vụ\n",
      "Nhà riêng\n",
      "Nhà biệt thự, liền kề\n",
      "Nhà mặt phố\n",
      "Shophouse, nhà phố thương mại\n",
      "\n",
      "\n",
      "\n"
     ]
    }
   ],
   "source": [
    "elems = driver.find_elements(By.CSS_SELECTOR, \".js__option .re__option\")\n",
    "re_types = []\n",
    "for elem in elems:\n",
    "    # check if ul in elem\n",
    "    print(elem.text)"
   ]
  }
 ],
 "metadata": {
  "kernelspec": {
   "display_name": "venv",
   "language": "python",
   "name": "python3"
  },
  "language_info": {
   "codemirror_mode": {
    "name": "ipython",
    "version": 3
   },
   "file_extension": ".py",
   "mimetype": "text/x-python",
   "name": "python",
   "nbconvert_exporter": "python",
   "pygments_lexer": "ipython3",
   "version": "3.11.9"
  }
 },
 "nbformat": 4,
 "nbformat_minor": 2
}
