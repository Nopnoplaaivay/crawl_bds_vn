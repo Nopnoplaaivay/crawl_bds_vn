{
 "cells": [
  {
   "cell_type": "code",
   "execution_count": 21,
   "metadata": {},
   "outputs": [],
   "source": [
    "import time\n",
    "import numpy as np\n",
    "import pandas as pd\n",
    "from typing import Dict, Union\n",
    "from selenium import webdriver\n",
    "from selenium.webdriver.common.by import By\n",
    "from selenium.webdriver.chrome.service import Service\n",
    "from selenium.webdriver.support.ui import WebDriverWait\n",
    "from selenium.webdriver.support import expected_conditions as EC\n",
    "from selenium.webdriver.common.action_chains import ActionChains\n",
    "from selenium.common.exceptions import (\n",
    "    ElementClickInterceptedException,\n",
    "    NoSuchElementException,\n",
    "    StaleElementReferenceException,\n",
    "    TimeoutException\n",
    ")\n",
    "from webdriver_manager.chrome import ChromeDriverManager\n",
    "\n",
    "# from src.common.consts import CommonConsts\n",
    "# from src.modules.entities.real_estate import RealEstate\n",
    "# from src.modules.repositories import RealEstateRepo\n",
    "\n",
    "\n",
    "\n",
    "# Set up Chrome driver\n",
    "options = webdriver.ChromeOptions()\n",
    "options.add_experimental_option(\"excludeSwitches\", [\"enable-logging\"])\n",
    "options.add_argument(\"--log-level=3\")  # Suppress logs\n",
    "options.add_argument(\"--disable-logging\")  # Disable logging\n",
    "options.add_argument(\"--silent\")  # Silent mode\n",
    "# options.add_argument(\"headless\")\n",
    "options.add_argument('--disable-dev-shm-usage')\n",
    "options.add_argument(\"window-size=1920x1080\")\n",
    "options.add_argument(\"disable-gpu\")\n",
    "service = Service(executable_path=ChromeDriverManager().install())\n",
    "driver = webdriver.Chrome(options=options, service=service)\n",
    "driver.set_page_load_timeout(30)\n",
    "link_all = [\n",
    "    \"https://batdongsan.com.vn/nha-dat-ban\",\n",
    "    \"https://batdongsan.com.vn/nha-dat-cho-thue\",\n",
    "]\n",
    "real_estate_type = [\n",
    "    \"Bán\",\n",
    "    \"Cho thuê\"\n",
    "]\n",
    "REAL_ESTATE_TYPES = {\n",
    "    \"nha-dat-ban\": [\n",
    "        \"Chung cư mini, căn hộ dịch vụ\",\n",
    "        \"Nhà riêng\",\n",
    "        \"Nhà biệt thự, liền kề\",\n",
    "        \"Nhà mặt phố\",\n",
    "        \"Shophouse, nhà phố thương mại\",\n",
    "        \"Đất nền dự án\",\n",
    "        \"Bán đất\",\n",
    "        \"Condotel\",\n",
    "        \"Kho, nhà xưởng\",\n",
    "        \"Bất động sản khác\"\n",
    "    ],\n",
    "    \"nha-dat-cho-thue\": [\n",
    "        \"Chung cư mini, căn hộ dịch vụ\",\n",
    "        \"Nhà riêng\",\n",
    "        \"Nhà biệt thự, liền kề\",\n",
    "        \"Nhà mặt phố\",\n",
    "        \"Nhà trọ, phòng trọ\",\n",
    "        \"Shophouse, nhà phố thương mại\",\n",
    "        \"Văn phòng\",\n",
    "        \"Cửa hàng, ki ốt\",\n",
    "        \"Kho, nhà xưởng, đất\",\n",
    "        \"Bất động sản khác\"\n",
    "    ]\n",
    "}\n",
    "\n",
    "driver.get(\"https://batdongsan.com.vn/nha-dat-ban\")"
   ]
  },
  {
   "cell_type": "code",
   "execution_count": 22,
   "metadata": {},
   "outputs": [],
   "source": [
    "filter_button = driver.find_element(By.CSS_SELECTOR, \"div[data-default-value='Loại nhà đất']\")\n",
    "filter_button.click()\n",
    "\n",
    "all_li_elements = []\n",
    "\n",
    "li_elements = driver.find_elements(By.CSS_SELECTOR, \".mCSB_container li[value]\")\n",
    "all_li_elements.extend(li_elements)"
   ]
  },
  {
   "cell_type": "code",
   "execution_count": 24,
   "metadata": {},
   "outputs": [
    {
     "name": "stdout",
     "output_type": "stream",
     "text": [
      "Chung cư mini, căn hộ dịch vụ\n",
      "--------------------------------------------------\n",
      "Chung cư mini, căn hộ dịch vụ\n",
      "--------------------------------------------------\n",
      "Nhà riêng\n",
      "Nhà biệt thự, liền kề\n",
      "Nhà mặt phố\n",
      "Shophouse, nhà phố thương mại\n",
      "--------------------------------------------------\n",
      "Nhà riêng\n",
      "--------------------------------------------------\n",
      "Nhà biệt thự, liền kề\n",
      "--------------------------------------------------\n",
      "Nhà mặt phố\n",
      "--------------------------------------------------\n",
      "Shophouse, nhà phố thương mại\n",
      "--------------------------------------------------\n",
      "Đất nền dự án\n",
      "Bán đất\n",
      "--------------------------------------------------\n",
      "Đất nền dự án\n",
      "--------------------------------------------------\n",
      "Bán đất\n",
      "--------------------------------------------------\n",
      "Condotel\n",
      "--------------------------------------------------\n",
      "Condotel\n",
      "--------------------------------------------------\n",
      "Kho, nhà xưởng\n",
      "--------------------------------------------------\n",
      "Bất động sản khác\n",
      "--------------------------------------------------\n",
      "['Chung cư mini, căn hộ dịch vụ', 'Chung cư mini, căn hộ dịch vụ', 'Nhà riêng', 'Nhà biệt thự, liền kề', 'Nhà mặt phố', 'Shophouse, nhà phố thương mại', 'Nhà riêng', 'Nhà biệt thự, liền kề', 'Nhà mặt phố', 'Shophouse, nhà phố thương mại', 'Đất nền dự án', 'Bán đất', 'Đất nền dự án', 'Bán đất', 'Condotel', 'Condotel', 'Kho, nhà xưởng', 'Bất động sản khác']\n"
     ]
    }
   ],
   "source": [
    "actions = ActionChains(driver)\n",
    "\n",
    "li_texts = []\n",
    "for li in all_li_elements:\n",
    "    actions.move_to_element(li).perform()\n",
    "    \n",
    "    try:\n",
    "        ul = li.find_element(By.CSS_SELECTOR, \"ul\")\n",
    "        li_elems = ul.find_elements(By.CSS_SELECTOR, \"li\")\n",
    "        for li_elem in li_elems:\n",
    "            print(li_elem.text)\n",
    "            li_texts.append(li_elem.text)\n",
    "    except NoSuchElementException:\n",
    "        li_texts.append(li.text)\n",
    "        print(li.text)\n",
    "    print(\"-\" * 50)\n",
    "    \n",
    "    # li_texts.append(li.text)\n",
    "\n",
    "\n",
    "print(li_texts)"
   ]
  },
  {
   "cell_type": "code",
   "execution_count": 25,
   "metadata": {},
   "outputs": [
    {
     "data": {
      "text/plain": [
       "['Chung cư mini, căn hộ dịch vụ',\n",
       " 'Shophouse, nhà phố thương mại',\n",
       " 'Đất nền dự án',\n",
       " 'Nhà biệt thự, liền kề',\n",
       " 'Bất động sản khác',\n",
       " 'Nhà mặt phố',\n",
       " 'Condotel',\n",
       " 'Kho, nhà xưởng',\n",
       " 'Bán đất',\n",
       " 'Nhà riêng']"
      ]
     },
     "execution_count": 25,
     "metadata": {},
     "output_type": "execute_result"
    }
   ],
   "source": [
    "li_texts = list(set(li_texts))\n",
    "li_texts"
   ]
  },
  {
   "cell_type": "code",
   "execution_count": 15,
   "metadata": {},
   "outputs": [
    {
     "name": "stdout",
     "output_type": "stream",
     "text": [
      "575\n",
      "Shophouse, nhà phố thương mại\n",
      "48\n",
      "Bất động sản khác\n",
      "324\n",
      "\n",
      "361\n",
      "Các loại đất bán\n",
      "Đất nền dự án\n",
      "Bán đất\n",
      "325\n",
      "\n",
      "44\n",
      "Trang trại, khu nghỉ dưỡng\n",
      "Condotel\n",
      "650\n",
      "\n",
      "163\n",
      "\n",
      "41\n",
      "\n",
      "562\n",
      "Condotel\n",
      "45\n",
      "Kho, nhà xưởng\n",
      "40\n",
      "Đất nền dự án\n",
      "362\n",
      "Shophouse, nhà phố thương mại\n",
      "283\n",
      "Bán đất\n"
     ]
    }
   ],
   "source": [
    "actions = ActionChains(driver)\n",
    "\n",
    "last_height = len(li_elements)\n",
    "while True:\n",
    "    # Scroll to the last element in the current list\n",
    "    actions.move_to_element(li_elements[-1]).perform()\n",
    "    \n",
    "    # Wait for new elements to load\n",
    "    time.sleep(1)\n",
    "    \n",
    "    # Get the updated list of li elements\n",
    "    li_elements = driver.find_elements(By.CSS_SELECTOR, \".mCSB_container li[value]\")\n",
    "    \n",
    "    # If the number of elements doesn't change, we have reached the end\n",
    "    if len(li_elements) == last_height:\n",
    "        break\n",
    "    \n",
    "    # Update the last_height and extend the all_li_elements list\n",
    "    last_height = len(li_elements)\n",
    "    all_li_elements.extend(li_elements)\n",
    "\n",
    "# Remove duplicates from all_li_elements (since they might have been added multiple times)\n",
    "unique_li_elements = list(set(all_li_elements))\n",
    "\n",
    "# Print the value and text of each unique li element\n",
    "for elem in unique_li_elements:\n",
    "    print(elem.get_attribute(\"value\"))\n",
    "    print(elem.text)"
   ]
  },
  {
   "cell_type": "code",
   "execution_count": 6,
   "metadata": {},
   "outputs": [
    {
     "data": {
      "text/plain": [
       "'Shophouse, nhà phố thương mại\\nCác loại đất bán\\nĐất nền dự án\\nBán đất\\nTrang trại, khu nghỉ dưỡng\\nCondotel\\nKho, nhà xưởng\\nBất động sản khác'"
      ]
     },
     "execution_count": 6,
     "metadata": {},
     "output_type": "execute_result"
    }
   ],
   "source": [
    "# find .mCSB_container li with innerText = \"Kho, nhà xưởng\"\n",
    "filter_dropdown = driver.find_element(By.CSS_SELECTOR, \".mCSB_container\")\n",
    "filter_dropdown.text"
   ]
  },
  {
   "cell_type": "code",
   "execution_count": 8,
   "metadata": {},
   "outputs": [
    {
     "name": "stdout",
     "output_type": "stream",
     "text": [
      "324\n",
      "Căn hộ chung cư\n",
      "Chung cư mini, căn hộ dịch vụ\n",
      "650\n",
      "Chung cư mini, căn hộ dịch vụ\n",
      "362\n",
      "Các loại nhà bán\n",
      "Nhà riêng\n",
      "Nhà biệt thự, liền kề\n",
      "Nhà mặt phố\n",
      "Shophouse, nhà phố thương mại\n",
      "41\n",
      "Nhà riêng\n",
      "325\n",
      "Nhà biệt thự, liền kề\n",
      "163\n",
      "Nhà mặt phố\n",
      "575\n",
      "Shophouse, nhà phố thương mại\n",
      "361\n",
      "\n",
      "40\n",
      "\n",
      "283\n",
      "\n",
      "44\n",
      "\n",
      "562\n",
      "\n",
      "45\n",
      "\n",
      "48\n",
      "\n"
     ]
    },
    {
     "data": {
      "text/plain": [
       "[]"
      ]
     },
     "execution_count": 8,
     "metadata": {},
     "output_type": "execute_result"
    }
   ],
   "source": [
    "# Get all elem that are li tag\n",
    "elems = driver.find_elements(By.CSS_SELECTOR, \".mCSB_container li[value]\")\n",
    "re_types = []\n",
    "for elem in elems:\n",
    "        print(elem.get_attribute(\"value\"))\n",
    "        print(elem.text)\n",
    "        # re_types.append(elem.text)\n",
    "        # try:\n",
    "        #     ul = elem.find_element(By.CSS_SELECTOR, \"ul\")\n",
    "        #     li_elems = ul.find_elements(By.CSS_SELECTOR, \"li\")\n",
    "        #     for li_elem in li_elems:\n",
    "        #         print(f\"--li: {li_elem.text}\")\n",
    "        #     print(f\"--ul \")\n",
    "        # except NoSuchElementException:\n",
    "        #     ul = None\n",
    "        #     print(f\"--no ul\")\n",
    "        # print(\"-\" * 50)\n",
    "re_types\n"
   ]
  }
 ],
 "metadata": {
  "kernelspec": {
   "display_name": "venv",
   "language": "python",
   "name": "python3"
  },
  "language_info": {
   "codemirror_mode": {
    "name": "ipython",
    "version": 3
   },
   "file_extension": ".py",
   "mimetype": "text/x-python",
   "name": "python",
   "nbconvert_exporter": "python",
   "pygments_lexer": "ipython3",
   "version": "3.11.4"
  }
 },
 "nbformat": 4,
 "nbformat_minor": 2
}
