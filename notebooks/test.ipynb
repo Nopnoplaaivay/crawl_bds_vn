{
 "cells": [
  {
   "cell_type": "code",
   "execution_count": 38,
   "metadata": {},
   "outputs": [],
   "source": [
    "import time\n",
    "import numpy as np\n",
    "import pandas as pd\n",
    "from typing import Dict, Union\n",
    "from selenium import webdriver\n",
    "from selenium.webdriver.common.by import By\n",
    "from selenium.webdriver.chrome.service import Service\n",
    "from selenium.webdriver.support.ui import WebDriverWait\n",
    "from selenium.webdriver.support import expected_conditions as EC\n",
    "from selenium.webdriver.common.action_chains import ActionChains\n",
    "from selenium.common.exceptions import (\n",
    "    ElementClickInterceptedException,\n",
    "    NoSuchElementException,\n",
    "    StaleElementReferenceException,\n",
    "    TimeoutException\n",
    ")\n",
    "from webdriver_manager.chrome import ChromeDriverManager\n",
    "\n",
    "# Set up Chrome driver\n",
    "options = webdriver.ChromeOptions()\n",
    "options.add_experimental_option(\"excludeSwitches\", [\"enable-logging\"])\n",
    "options.add_argument(\"--log-level=3\")  # Suppress logs\n",
    "options.add_argument(\"--disable-logging\")  # Disable logging\n",
    "options.add_argument(\"--silent\")  # Silent mode\n",
    "# options.add_argument(\"headless\")\n",
    "options.add_argument('--disable-dev-shm-usage')\n",
    "options.add_argument(\"window-size=1920x1080\")\n",
    "options.add_argument(\"disable-gpu\")\n",
    "service = Service(executable_path=ChromeDriverManager().install())\n",
    "driver = webdriver.Chrome(options=options, service=service)\n",
    "driver.set_page_load_timeout(30)\n",
    "link_all = [\n",
    "    \"https://batdongsan.com.vn/nha-dat-ban\",\n",
    "    \"https://batdongsan.com.vn/nha-dat-cho-thue\",\n",
    "]\n",
    "real_estate_type = [\n",
    "    \"nha-dat-ban\",\n",
    "    \"nha-dat-cho-thue\",\n",
    "]\n",
    "\n",
    "driver.get(\"https://batdongsan.com.vn/nha-dat-ban\")"
   ]
  },
  {
   "cell_type": "code",
   "execution_count": 89,
   "metadata": {},
   "outputs": [],
   "source": [
    "filter_button = driver.find_element(By.CSS_SELECTOR, \"div[data-default-value='Loại nhà đất']\")\n",
    "filter_button.click()\n",
    "\n",
    "# re_filter_box = driver.find_element(By.CSS_SELECTOR, \".mCSB_container\")\n",
    "re_filter_box = driver.find_element(By.CSS_SELECTOR, \".re__listing-search-select-dropdown.re__multiple.js__listing-search-select-select-dropdown.re__show-fade-in\")\n",
    "re_elems = re_filter_box.find_elements(By.CSS_SELECTOR, \"li\")\n",
    "\n",
    "apply_button = re_filter_box.find_element(By.CSS_SELECTOR, \".re__btn.re__btn-pr-solid--sm.js__listing-search-select-apply-button\")\n",
    "all_types_elem = re_elems[0]"
   ]
  },
  {
   "cell_type": "code",
   "execution_count": 86,
   "metadata": {},
   "outputs": [
    {
     "name": "stdout",
     "output_type": "stream",
     "text": [
      "['Condotel', 'Shophouse, nhà phố thương mại', 'Bán đất', 'Nhà riêng', 'Nhà mặt phố', 'Kho, nhà xưởng', 'Bất động sản khác', 'Nhà biệt thự, liền kề', 'Đất nền dự án', 'Chung cư mini, căn hộ dịch vụ']\n",
      "['283', '562', '325', '41', '45', '40', '163', '575', '48', '650']\n",
      "Real estate texts: 10\n",
      "Real estate types: 10\n"
     ]
    }
   ],
   "source": [
    "get_elems_actions = ActionChains(driver)\n",
    "re_type_texts = set()\n",
    "re_type_ids = set()\n",
    "for li in re_elems[1:]:\n",
    "    get_elems_actions.move_to_element(li).perform()\n",
    "    try:\n",
    "        ul = li.find_element(By.CSS_SELECTOR, \"ul\")\n",
    "        li_elems = ul.find_elements(By.CSS_SELECTOR, \"li\")\n",
    "        for li_elem in li_elems:\n",
    "                re_type = li_elem.text\n",
    "                re_type_texts.add(li_elem.text)\n",
    "                re_type_ids.add(li_elem.get_attribute(\"value\"))\n",
    "    except NoSuchElementException:\n",
    "            re_type_texts.add(li.text)\n",
    "            re_type_ids.add(li.get_attribute(\"value\"))\n",
    "\n",
    "re_type_texts = list(re_type_texts)\n",
    "re_type_ids = list(re_type_ids)\n",
    "\n",
    "print(re_type_texts)\n",
    "print(re_type_ids)\n",
    "print(f\"Real estate texts: {len(re_type_texts)}\")\n",
    "print(f\"Real estate types: {len(re_type_ids)}\")"
   ]
  },
  {
   "cell_type": "code",
   "execution_count": 92,
   "metadata": {},
   "outputs": [
    {
     "name": "stdout",
     "output_type": "stream",
     "text": [
      "Crawling Bán đất\n",
      "Crawling Condotel\n",
      "Crawling Nhà biệt thự, liền kề\n",
      "Crawling Nhà riêng\n",
      "Crawling Kho, nhà xưởng\n",
      "Crawling Đất nền dự án\n",
      "Crawling Nhà mặt phố\n",
      "Crawling Shophouse, nhà phố thương mại\n",
      "Crawling Bất động sản khác\n",
      "Crawling Chung cư mini, căn hộ dịch vụ\n"
     ]
    }
   ],
   "source": [
    "check_elems_actions = ActionChains(driver) \n",
    "for id in re_type_ids:\n",
    "    filter_button = driver.find_element(By.CSS_SELECTOR, \"div[data-default-value='Loại nhà đất']\")\n",
    "    filter_button.click()\n",
    "    re_filter_box = driver.find_element(By.CSS_SELECTOR, \".re__listing-search-select-dropdown.re__multiple.js__listing-search-select-select-dropdown.re__show-fade-in\")\n",
    "    re_elems = re_filter_box.find_elements(By.CSS_SELECTOR, \"li\")\n",
    "\n",
    "    apply_button = re_filter_box.find_element(By.CSS_SELECTOR, \".re__btn.re__btn-pr-solid--sm.js__listing-search-select-apply-button\")\n",
    "    all_types_elem = re_elems[0]\n",
    "    check_elems_actions.move_to_element(all_types_elem).perform()\n",
    "    all_types_elem.click()\n",
    "    time.sleep(1)\n",
    "    all_types_elem.click()\n",
    "    check_box = re_filter_box.find_element(By.CSS_SELECTOR, f\"[value='{id}']\")\n",
    "    check_elems_actions.move_to_element(check_box).perform()\n",
    "    check_box.click()\n",
    "    print(f\"Crawling {check_box.text}\")\n",
    "    apply_button.click()\n",
    "    time.sleep(5)\n",
    "    # Navigate back to the main page\n",
    "    driver.get(\"https://batdongsan.com.vn/nha-dat-ban\")"
   ]
  }
 ],
 "metadata": {
  "kernelspec": {
   "display_name": "venv",
   "language": "python",
   "name": "python3"
  },
  "language_info": {
   "codemirror_mode": {
    "name": "ipython",
    "version": 3
   },
   "file_extension": ".py",
   "mimetype": "text/x-python",
   "name": "python",
   "nbconvert_exporter": "python",
   "pygments_lexer": "ipython3",
   "version": "3.11.9"
  }
 },
 "nbformat": 4,
 "nbformat_minor": 2
}
